{
 "cells": [
  {
   "cell_type": "code",
   "execution_count": 1,
   "id": "615546e0",
   "metadata": {},
   "outputs": [],
   "source": [
    "import tensorflow as tf\n",
    "from tensorflow import keras"
   ]
  },
  {
   "cell_type": "markdown",
   "id": "b3893405",
   "metadata": {},
   "source": [
    "## Load the dataset"
   ]
  },
  {
   "cell_type": "code",
   "execution_count": 2,
   "id": "a53b9707",
   "metadata": {},
   "outputs": [],
   "source": [
    "fashion_mnist = keras.datasets.mnist\n",
    "(X_train_full, y_train_full), (X_test, y_test) = fashion_mnist.load_data()"
   ]
  },
  {
   "cell_type": "code",
   "execution_count": 3,
   "id": "47dfff72",
   "metadata": {},
   "outputs": [
    {
     "data": {
      "text/plain": [
       "(60000, 28, 28)"
      ]
     },
     "execution_count": 3,
     "metadata": {},
     "output_type": "execute_result"
    }
   ],
   "source": [
    "X_train_full.shape"
   ]
  },
  {
   "cell_type": "code",
   "execution_count": 4,
   "id": "e98e02df",
   "metadata": {},
   "outputs": [
    {
     "data": {
      "text/plain": [
       "dtype('uint8')"
      ]
     },
     "execution_count": 4,
     "metadata": {},
     "output_type": "execute_result"
    }
   ],
   "source": [
    "X_train_full.dtype"
   ]
  },
  {
   "cell_type": "markdown",
   "id": "bbc0f713",
   "metadata": {},
   "source": [
    "## Train test split"
   ]
  },
  {
   "cell_type": "code",
   "execution_count": 5,
   "id": "b7e8609a",
   "metadata": {},
   "outputs": [],
   "source": [
    "X_valid, X_train = X_train_full[:5000] / 255.0, X_train_full[5000:] / 255.0\n",
    "y_valid, y_train = y_train_full[:5000], y_train_full[5000:]"
   ]
  },
  {
   "cell_type": "code",
   "execution_count": 6,
   "id": "c7e65310",
   "metadata": {},
   "outputs": [],
   "source": [
    "class_names = [\"T-shirt/top\", \"Trouser\", \"Pullover\", \"Dress\", \"Coat\",\n",
    "               \"Sandal\", \"Shirt\", \"Sneaker\", \"Bag\", \"Ankle boot\"]"
   ]
  },
  {
   "cell_type": "code",
   "execution_count": 7,
   "id": "cb07b454",
   "metadata": {},
   "outputs": [
    {
     "data": {
      "text/plain": [
       "'Sneaker'"
      ]
     },
     "execution_count": 7,
     "metadata": {},
     "output_type": "execute_result"
    }
   ],
   "source": [
    "class_names[y_train[0]]"
   ]
  },
  {
   "cell_type": "markdown",
   "id": "d69c46a0",
   "metadata": {},
   "source": [
    "## Creating the model using the Sequential API"
   ]
  },
  {
   "cell_type": "code",
   "execution_count": 8,
   "id": "d20d0465",
   "metadata": {},
   "outputs": [],
   "source": [
    "model = keras.models.Sequential()\n",
    "model.add(keras.layers.Flatten(input_shape=[28, 28]))\n",
    "model.add(keras.layers.Dense(300, activation=\"relu\"))\n",
    "model.add(keras.layers.Dense(100, activation=\"relu\"))\n",
    "model.add(keras.layers.Dense(10, activation=\"softmax\"))"
   ]
  },
  {
   "cell_type": "markdown",
   "id": "8786592f",
   "metadata": {},
   "source": [
    "The model’s summary() method displays all the model’s layers,14 including each layer’s\n",
    "name , its output shape, and its number of parameters. The summary ends with the total number of parameters, including trainable and non-trainable parameters. "
   ]
  },
  {
   "cell_type": "code",
   "execution_count": 9,
   "id": "fdffabea",
   "metadata": {},
   "outputs": [
    {
     "name": "stdout",
     "output_type": "stream",
     "text": [
      "Model: \"sequential\"\n",
      "_________________________________________________________________\n",
      " Layer (type)                Output Shape              Param #   \n",
      "=================================================================\n",
      " flatten (Flatten)           (None, 784)               0         \n",
      "                                                                 \n",
      " dense (Dense)               (None, 300)               235500    \n",
      "                                                                 \n",
      " dense_1 (Dense)             (None, 100)               30100     \n",
      "                                                                 \n",
      " dense_2 (Dense)             (None, 10)                1010      \n",
      "                                                                 \n",
      "=================================================================\n",
      "Total params: 266,610\n",
      "Trainable params: 266,610\n",
      "Non-trainable params: 0\n",
      "_________________________________________________________________\n"
     ]
    }
   ],
   "source": [
    "model.summary()"
   ]
  },
  {
   "cell_type": "code",
   "execution_count": 10,
   "id": "a87ce113",
   "metadata": {},
   "outputs": [
    {
     "data": {
      "text/plain": [
       "[<keras.layers.core.flatten.Flatten at 0x19abb520af0>,\n",
       " <keras.layers.core.dense.Dense at 0x19abb520b80>,\n",
       " <keras.layers.core.dense.Dense at 0x19abb53efa0>,\n",
       " <keras.layers.core.dense.Dense at 0x19ad1cc7a60>]"
      ]
     },
     "execution_count": 10,
     "metadata": {},
     "output_type": "execute_result"
    }
   ],
   "source": [
    "model.layers"
   ]
  },
  {
   "cell_type": "code",
   "execution_count": 11,
   "id": "e27d2ad7",
   "metadata": {},
   "outputs": [
    {
     "data": {
      "text/plain": [
       "'dense'"
      ]
     },
     "execution_count": 11,
     "metadata": {},
     "output_type": "execute_result"
    }
   ],
   "source": [
    "hidden1 = model.layers[1]\n",
    "hidden1.name"
   ]
  },
  {
   "cell_type": "code",
   "execution_count": 12,
   "id": "a17842be",
   "metadata": {},
   "outputs": [
    {
     "data": {
      "text/plain": [
       "array([[ 0.05066265,  0.034888  ,  0.02547351, ...,  0.0179001 ,\n",
       "         0.00862794, -0.06485803],\n",
       "       [-0.05595791, -0.01683663,  0.03160328, ..., -0.0628795 ,\n",
       "         0.03932044, -0.03690926],\n",
       "       [-0.06554433,  0.03393502, -0.01341086, ...,  0.0205649 ,\n",
       "        -0.03380791,  0.06449108],\n",
       "       ...,\n",
       "       [-0.03513404, -0.03959444,  0.01448471, ...,  0.0489855 ,\n",
       "        -0.04675111, -0.00040572],\n",
       "       [-0.03701661,  0.02519353,  0.00171137, ..., -0.06974439,\n",
       "         0.02207471,  0.04530635],\n",
       "       [-0.06507648,  0.06377356,  0.00646108, ..., -0.04652545,\n",
       "        -0.02149457, -0.00132103]], dtype=float32)"
      ]
     },
     "execution_count": 12,
     "metadata": {},
     "output_type": "execute_result"
    }
   ],
   "source": [
    "weights, biases = hidden1.get_weights()\n",
    "weights"
   ]
  },
  {
   "cell_type": "code",
   "execution_count": 13,
   "id": "cae21159",
   "metadata": {},
   "outputs": [
    {
     "data": {
      "text/plain": [
       "(784, 300)"
      ]
     },
     "execution_count": 13,
     "metadata": {},
     "output_type": "execute_result"
    }
   ],
   "source": [
    "weights.shape"
   ]
  },
  {
   "cell_type": "code",
   "execution_count": 14,
   "id": "11b7b254",
   "metadata": {},
   "outputs": [
    {
     "data": {
      "text/plain": [
       "array([0., 0., 0., 0., 0., 0., 0., 0., 0., 0., 0., 0., 0., 0., 0., 0., 0.,\n",
       "       0., 0., 0., 0., 0., 0., 0., 0., 0., 0., 0., 0., 0., 0., 0., 0., 0.,\n",
       "       0., 0., 0., 0., 0., 0., 0., 0., 0., 0., 0., 0., 0., 0., 0., 0., 0.,\n",
       "       0., 0., 0., 0., 0., 0., 0., 0., 0., 0., 0., 0., 0., 0., 0., 0., 0.,\n",
       "       0., 0., 0., 0., 0., 0., 0., 0., 0., 0., 0., 0., 0., 0., 0., 0., 0.,\n",
       "       0., 0., 0., 0., 0., 0., 0., 0., 0., 0., 0., 0., 0., 0., 0., 0., 0.,\n",
       "       0., 0., 0., 0., 0., 0., 0., 0., 0., 0., 0., 0., 0., 0., 0., 0., 0.,\n",
       "       0., 0., 0., 0., 0., 0., 0., 0., 0., 0., 0., 0., 0., 0., 0., 0., 0.,\n",
       "       0., 0., 0., 0., 0., 0., 0., 0., 0., 0., 0., 0., 0., 0., 0., 0., 0.,\n",
       "       0., 0., 0., 0., 0., 0., 0., 0., 0., 0., 0., 0., 0., 0., 0., 0., 0.,\n",
       "       0., 0., 0., 0., 0., 0., 0., 0., 0., 0., 0., 0., 0., 0., 0., 0., 0.,\n",
       "       0., 0., 0., 0., 0., 0., 0., 0., 0., 0., 0., 0., 0., 0., 0., 0., 0.,\n",
       "       0., 0., 0., 0., 0., 0., 0., 0., 0., 0., 0., 0., 0., 0., 0., 0., 0.,\n",
       "       0., 0., 0., 0., 0., 0., 0., 0., 0., 0., 0., 0., 0., 0., 0., 0., 0.,\n",
       "       0., 0., 0., 0., 0., 0., 0., 0., 0., 0., 0., 0., 0., 0., 0., 0., 0.,\n",
       "       0., 0., 0., 0., 0., 0., 0., 0., 0., 0., 0., 0., 0., 0., 0., 0., 0.,\n",
       "       0., 0., 0., 0., 0., 0., 0., 0., 0., 0., 0., 0., 0., 0., 0., 0., 0.,\n",
       "       0., 0., 0., 0., 0., 0., 0., 0., 0., 0., 0.], dtype=float32)"
      ]
     },
     "execution_count": 14,
     "metadata": {},
     "output_type": "execute_result"
    }
   ],
   "source": [
    "biases"
   ]
  },
  {
   "cell_type": "code",
   "execution_count": 15,
   "id": "4b6b5ec1",
   "metadata": {},
   "outputs": [
    {
     "data": {
      "text/plain": [
       "(300,)"
      ]
     },
     "execution_count": 15,
     "metadata": {},
     "output_type": "execute_result"
    }
   ],
   "source": [
    "biases.shape"
   ]
  },
  {
   "cell_type": "code",
   "execution_count": 16,
   "id": "123df9c6",
   "metadata": {},
   "outputs": [],
   "source": [
    "model.compile(loss=\"sparse_categorical_crossentropy\",\n",
    "              optimizer=\"sgd\",\n",
    "              metrics=[\"accuracy\"]\n",
    "            )"
   ]
  },
  {
   "cell_type": "markdown",
   "id": "82829ff2",
   "metadata": {},
   "source": [
    "## Training and evaluating the model"
   ]
  },
  {
   "cell_type": "markdown",
   "id": "37f5ef78",
   "metadata": {},
   "source": [
    "The fit() method returns a History object containing the training parameters\n",
    "(history.params), the list of epochs it went through (history.epoch), and most\n",
    "importantly a dictionary (history.history) containing the loss and extra metrics it\n",
    "measured at the end of each epoch on the training set and on the validation set (if\n",
    "any)"
   ]
  },
  {
   "cell_type": "code",
   "execution_count": 17,
   "id": "e7716971",
   "metadata": {},
   "outputs": [
    {
     "name": "stdout",
     "output_type": "stream",
     "text": [
      "Epoch 1/20\n",
      "1719/1719 [==============================] - 40s 17ms/step - loss: 0.6094 - accuracy: 0.8419 - val_loss: 0.3067 - val_accuracy: 0.9126\n",
      "Epoch 2/20\n",
      "1719/1719 [==============================] - 21s 12ms/step - loss: 0.2864 - accuracy: 0.9179 - val_loss: 0.2387 - val_accuracy: 0.9332\n",
      "Epoch 3/20\n",
      "1719/1719 [==============================] - 27s 16ms/step - loss: 0.2350 - accuracy: 0.9330 - val_loss: 0.1997 - val_accuracy: 0.9432\n",
      "Epoch 4/20\n",
      "1719/1719 [==============================] - 25s 14ms/step - loss: 0.2008 - accuracy: 0.9430 - val_loss: 0.1763 - val_accuracy: 0.9508\n",
      "Epoch 5/20\n",
      "1719/1719 [==============================] - 27s 16ms/step - loss: 0.1757 - accuracy: 0.9498 - val_loss: 0.1573 - val_accuracy: 0.9564\n",
      "Epoch 6/20\n",
      "1719/1719 [==============================] - 37s 22ms/step - loss: 0.1556 - accuracy: 0.9551 - val_loss: 0.1434 - val_accuracy: 0.9594\n",
      "Epoch 7/20\n",
      "1719/1719 [==============================] - 23s 13ms/step - loss: 0.1394 - accuracy: 0.9603 - val_loss: 0.1374 - val_accuracy: 0.9620\n",
      "Epoch 8/20\n",
      "1719/1719 [==============================] - 36s 21ms/step - loss: 0.1265 - accuracy: 0.9640 - val_loss: 0.1330 - val_accuracy: 0.9634 loss: 0.1\n",
      "Epoch 9/20\n",
      "1719/1719 [==============================] - 29s 17ms/step - loss: 0.1147 - accuracy: 0.9669 - val_loss: 0.1190 - val_accuracy: 0.9666.1147 - accuracy: 0.96 - ETA: 0s - loss: 0.1148 - accuracy\n",
      "Epoch 10/20\n",
      "1719/1719 [==============================] - 30s 17ms/step - loss: 0.1051 - accuracy: 0.9703 - val_loss: 0.1127 - val_accuracy: 0.9670\n",
      "Epoch 11/20\n",
      "1719/1719 [==============================] - 21s 12ms/step - loss: 0.0964 - accuracy: 0.9727 - val_loss: 0.1100 - val_accuracy: 0.9676\n",
      "Epoch 12/20\n",
      "1719/1719 [==============================] - 18s 10ms/step - loss: 0.0895 - accuracy: 0.9753 - val_loss: 0.1006 - val_accuracy: 0.9724\n",
      "Epoch 13/20\n",
      "1719/1719 [==============================] - 28s 16ms/step - loss: 0.0827 - accuracy: 0.9774 - val_loss: 0.0957 - val_accuracy: 0.97221s - loss: 0.0833  - ETA: 0s - loss: 0.0 - ETA: 0s - loss: 0.0828 - accuracy: \n",
      "Epoch 14/20\n",
      "1719/1719 [==============================] - 29s 17ms/step - loss: 0.0766 - accuracy: 0.9793 - val_loss: 0.0896 - val_accuracy: 0.9740\n",
      "Epoch 15/20\n",
      "1719/1719 [==============================] - 31s 18ms/step - loss: 0.0713 - accuracy: 0.9800 - val_loss: 0.0896 - val_accuracy: 0.9748\n",
      "Epoch 16/20\n",
      "1719/1719 [==============================] - 20s 12ms/step - loss: 0.0666 - accuracy: 0.9820 - val_loss: 0.0886 - val_accuracy: 0.9734\n",
      "Epoch 17/20\n",
      "1719/1719 [==============================] - 26s 15ms/step - loss: 0.0621 - accuracy: 0.9833 - val_loss: 0.0887 - val_accuracy: 0.9730cy:  - ETA: 6s - loss: 0.0611 - accu - ETA: 3s - - - ETA: 1s - loss: 0.061 - ETA: 0s - l\n",
      "Epoch 18/20\n",
      "1719/1719 [==============================] - 22s 13ms/step - loss: 0.0578 - accuracy: 0.9844 - val_loss: 0.0808 - val_accuracy: 0.9778\n",
      "Epoch 19/20\n",
      "1719/1719 [==============================] - 24s 14ms/step - loss: 0.0544 - accuracy: 0.9852 - val_loss: 0.0812 - val_accuracy: 0.9766\n",
      "Epoch 20/20\n",
      "1719/1719 [==============================] - 21s 12ms/step - loss: 0.0510 - accuracy: 0.9866 - val_loss: 0.0789 - val_accuracy: 0.9772\n"
     ]
    }
   ],
   "source": [
    "history = model.fit(X_train, y_train, epochs=20,validation_data=(X_valid, y_valid))"
   ]
  },
  {
   "cell_type": "code",
   "execution_count": 18,
   "id": "cfdbd91c",
   "metadata": {},
   "outputs": [
    {
     "data": {
      "image/png": "[encoded data removed]",
      "text/plain": [
       "<Figure size 576x360 with 1 Axes>"
      ]
     },
     "metadata": {
      "needs_background": "light"
     },
     "output_type": "display_data"
    }
   ],
   "source": [
    "import pandas as pd\n",
    "import matplotlib.pyplot as plt\n",
    "pd.DataFrame(history.history).plot(figsize=(8, 5))\n",
    "plt.grid(True)\n",
    "plt.gca().set_ylim(0, 1) # set the vertical range to [0-1]\n",
    "plt.show()"
   ]
  },
  {
   "cell_type": "code",
   "execution_count": 19,
   "id": "215fb1c8",
   "metadata": {},
   "outputs": [
    {
     "name": "stdout",
     "output_type": "stream",
     "text": [
      "313/313 [==============================] - 3s 6ms/step - loss: 13.2742 - accuracy: 0.9729\n"
     ]
    },
    {
     "data": {
      "text/plain": [
       "[13.27416706085205, 0.9728999733924866]"
      ]
     },
     "execution_count": 19,
     "metadata": {},
     "output_type": "execute_result"
    }
   ],
   "source": [
    "model.evaluate(X_test, y_test)"
   ]
  }
 ],
 "metadata": {
  "kernelspec": {
   "display_name": "Python 3 (ipykernel)",
   "language": "python",
   "name": "python3"
  },
  "language_info": {
   "codemirror_mode": {
    "name": "ipython",
    "version": 3
   },
   "file_extension": ".py",
   "mimetype": "text/x-python",
   "name": "python",
   "nbconvert_exporter": "python",
   "pygments_lexer": "ipython3",
   "version": "3.8.6"
  },
  "toc": {
   "base_numbering": 1,
   "nav_menu": {},
   "number_sections": true,
   "sideBar": true,
   "skip_h1_title": false,
   "title_cell": "Table of Contents",
   "title_sidebar": "Contents",
   "toc_cell": false,
   "toc_position": {},
   "toc_section_display": true,
   "toc_window_display": false
  }
 },
 "nbformat": 4,
 "nbformat_minor": 5
}
